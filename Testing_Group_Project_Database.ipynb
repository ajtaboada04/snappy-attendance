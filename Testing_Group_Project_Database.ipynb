{
 "cells": [
  {
   "cell_type": "markdown",
   "id": "018a21a3-30c1-4730-8a07-9d076a51d21b",
   "metadata": {},
   "source": [
    "# Testing Group Project Database"
   ]
  },
  {
   "cell_type": "code",
   "execution_count": 12,
   "metadata": {},
   "outputs": [
    {
     "name": "stdout",
     "output_type": "stream",
     "text": [
      "Collecting mysql-connector\n",
      "  Using cached mysql_connector-2.2.9-cp312-cp312-macosx_10_9_universal2.whl\n",
      "Installing collected packages: mysql-connector\n",
      "Successfully installed mysql-connector-2.2.9\n",
      "\n",
      "\u001b[1m[\u001b[0m\u001b[34;49mnotice\u001b[0m\u001b[1;39;49m]\u001b[0m\u001b[39;49m A new release of pip is available: \u001b[0m\u001b[31;49m23.2.1\u001b[0m\u001b[39;49m -> \u001b[0m\u001b[32;49m23.3.1\u001b[0m\n",
      "\u001b[1m[\u001b[0m\u001b[34;49mnotice\u001b[0m\u001b[1;39;49m]\u001b[0m\u001b[39;49m To update, run: \u001b[0m\u001b[32;49mpython3.12 -m pip install --upgrade pip\u001b[0m\n"
     ]
    }
   ],
   "source": [
    "!pip3 install mysql-connector"
   ]
  },
  {
   "cell_type": "code",
   "execution_count": 21,
   "id": "85460dff-ff83-4bf5-8133-e788753fd16a",
   "metadata": {},
   "outputs": [
    {
     "name": "stdout",
     "output_type": "stream",
     "text": [
      "=== Testing connection to the Database\n",
      "SELECT NOW();\n",
      "[(datetime.datetime(2023, 12, 1, 12, 11, 8),)]\n",
      "=== Showing the Databases you have access to.\n",
      "SHOW DATABASES;\n",
      "[(bytearray(b'DUDB_3'),), (bytearray(b'information_schema'),), (bytearray(b'performance_schema'),)]\n",
      "\n",
      "\n",
      "[(bytearray(b'auth_group'),), (bytearray(b'auth_group_permissions'),), (bytearray(b'auth_permission'),), (bytearray(b'auth_user'),), (bytearray(b'auth_user_groups'),), (bytearray(b'auth_user_user_permissions'),), (bytearray(b'django_admin_log'),), (bytearray(b'django_content_type'),), (bytearray(b'django_migrations'),), (bytearray(b'django_session'),), (bytearray(b'home_attendance'),), (bytearray(b'home_course'),), (bytearray(b'home_professor'),), (bytearray(b'home_professor_courses'),), (bytearray(b'home_session'),), (bytearray(b'home_student'),), (bytearray(b'home_student_courses'),), (bytearray(b'social_auth_association'),), (bytearray(b'social_auth_code'),), (bytearray(b'social_auth_nonce'),), (bytearray(b'social_auth_partial'),), (bytearray(b'social_auth_usersocialauth'),), (bytearray(b'taggit_tag'),), (bytearray(b'taggit_taggeditem'),)]\n"
     ]
    }
   ],
   "source": [
    "import mysql.connector\n",
    "\n",
    "host = 'dockerlab.westeurope.cloudapp.azure.com'\n",
    "port = 3307\n",
    "username = 'DUDB_3'\n",
    "password = '8ReukdQCXc6u_kOaWNc3cYBaxU86Li4nWLUbq8Rv-j8'\n",
    "database = 'DUDB_3'\n",
    "\n",
    "cnx = mysql.connector.connect(user=username, password=password,\n",
    "                                host=host, database=database)\n",
    "\n",
    "cursor = cnx.cursor()\n",
    "\n",
    "print(\"=== Testing connection to the Database\")\n",
    "sql_str = 'SELECT NOW();'\n",
    "print(sql_str)\n",
    "cursor.execute(sql_str)\n",
    "rs = cursor.fetchall()\n",
    "print(rs)\n",
    "\n",
    "print(f\"=== Showing the Databases you have access to.\")\n",
    "sql_str = 'SHOW DATABASES;'\n",
    "print(sql_str)\n",
    "cursor.execute(sql_str)\n",
    "rs = cursor.fetchall()\n",
    "print(rs)\n",
    "\n",
    "\n",
    "print(\"\\n\")\n",
    "sql_str = 'SHOW TABLES;'\n",
    "cursor.execute(sql_str)\n",
    "rs = cursor.fetchall()\n",
    "print(rs)\n",
    "\n",
    "# cursor = cnx.cursor()\n",
    "\n",
    "# # List of tables to be deleted\n",
    "# tables_to_delete = [\n",
    "#     'snappy_attendance',\n",
    "#     'snappy_course',\n",
    "#     'snappy_professor',\n",
    "#     'snappy_professor_courses',\n",
    "#     'snappy_session',\n",
    "#     'snappy_student',\n",
    "#     'snappy_student_courses'\n",
    "# ]\n",
    "\n",
    "# # Form the SQL statement\n",
    "# drop_statement = \"DROP TABLE \" + \", \".join(tables_to_delete)\n",
    "\n",
    "# # Execute the statement\n",
    "# try:\n",
    "#     cursor.execute(drop_statement)\n",
    "#     cnx.commit()\n",
    "#     print(\"Tables deleted successfully.\")\n",
    "# except mysql.connector.Error as err:\n",
    "#     print(f\"Error: {err}\")\n",
    "\n",
    "# Close the connection\n",
    "cursor.close()\n",
    "cnx.close()"
   ]
  },
  {
   "cell_type": "code",
   "execution_count": 19,
   "metadata": {},
   "outputs": [
    {
     "ename": "OperationalError",
     "evalue": "MySQL Connection not available.",
     "output_type": "error",
     "traceback": [
      "\u001b[0;31m---------------------------------------------------------------------------\u001b[0m",
      "\u001b[0;31mOperationalError\u001b[0m                          Traceback (most recent call last)",
      "\u001b[1;32m/Users/ricardomendezcavalieri/Desktop/IE/Y2/S1/CLOUD COMPUTING/Classlink/Testing_Group_Project_Database.ipynb Cell 4\u001b[0m line \u001b[0;36m1\n\u001b[0;32m----> <a href='vscode-notebook-cell:/Users/ricardomendezcavalieri/Desktop/IE/Y2/S1/CLOUD%20COMPUTING/Classlink/Testing_Group_Project_Database.ipynb#W4sZmlsZQ%3D%3D?line=0'>1</a>\u001b[0m cursor \u001b[39m=\u001b[39m cnx\u001b[39m.\u001b[39;49mcursor()\n\u001b[1;32m      <a href='vscode-notebook-cell:/Users/ricardomendezcavalieri/Desktop/IE/Y2/S1/CLOUD%20COMPUTING/Classlink/Testing_Group_Project_Database.ipynb#W4sZmlsZQ%3D%3D?line=2'>3</a>\u001b[0m \u001b[39m# List of tables to be deleted\u001b[39;00m\n\u001b[1;32m      <a href='vscode-notebook-cell:/Users/ricardomendezcavalieri/Desktop/IE/Y2/S1/CLOUD%20COMPUTING/Classlink/Testing_Group_Project_Database.ipynb#W4sZmlsZQ%3D%3D?line=3'>4</a>\u001b[0m tables_to_delete \u001b[39m=\u001b[39m [\n\u001b[1;32m      <a href='vscode-notebook-cell:/Users/ricardomendezcavalieri/Desktop/IE/Y2/S1/CLOUD%20COMPUTING/Classlink/Testing_Group_Project_Database.ipynb#W4sZmlsZQ%3D%3D?line=4'>5</a>\u001b[0m     \u001b[39m'\u001b[39m\u001b[39msnappy_attendance\u001b[39m\u001b[39m'\u001b[39m,\n\u001b[1;32m      <a href='vscode-notebook-cell:/Users/ricardomendezcavalieri/Desktop/IE/Y2/S1/CLOUD%20COMPUTING/Classlink/Testing_Group_Project_Database.ipynb#W4sZmlsZQ%3D%3D?line=5'>6</a>\u001b[0m     \u001b[39m'\u001b[39m\u001b[39msnappy_course\u001b[39m\u001b[39m'\u001b[39m,\n\u001b[0;32m   (...)\u001b[0m\n\u001b[1;32m     <a href='vscode-notebook-cell:/Users/ricardomendezcavalieri/Desktop/IE/Y2/S1/CLOUD%20COMPUTING/Classlink/Testing_Group_Project_Database.ipynb#W4sZmlsZQ%3D%3D?line=10'>11</a>\u001b[0m     \u001b[39m'\u001b[39m\u001b[39msnappy_student_courses\u001b[39m\u001b[39m'\u001b[39m\n\u001b[1;32m     <a href='vscode-notebook-cell:/Users/ricardomendezcavalieri/Desktop/IE/Y2/S1/CLOUD%20COMPUTING/Classlink/Testing_Group_Project_Database.ipynb#W4sZmlsZQ%3D%3D?line=11'>12</a>\u001b[0m ]\n",
      "File \u001b[0;32m/Library/Frameworks/Python.framework/Versions/3.12/lib/python3.12/site-packages/mysql/connector/connection.py:809\u001b[0m, in \u001b[0;36mMySQLConnection.cursor\u001b[0;34m(self, buffered, raw, prepared, cursor_class, dictionary, named_tuple)\u001b[0m\n\u001b[1;32m    806\u001b[0m \u001b[39mself\u001b[39m\u001b[39m.\u001b[39mhandle_unread_result()\n\u001b[1;32m    808\u001b[0m \u001b[39mif\u001b[39;00m \u001b[39mnot\u001b[39;00m \u001b[39mself\u001b[39m\u001b[39m.\u001b[39mis_connected():\n\u001b[0;32m--> 809\u001b[0m     \u001b[39mraise\u001b[39;00m errors\u001b[39m.\u001b[39mOperationalError(\u001b[39m\"\u001b[39m\u001b[39mMySQL Connection not available.\u001b[39m\u001b[39m\"\u001b[39m)\n\u001b[1;32m    810\u001b[0m \u001b[39mif\u001b[39;00m cursor_class \u001b[39mis\u001b[39;00m \u001b[39mnot\u001b[39;00m \u001b[39mNone\u001b[39;00m:\n\u001b[1;32m    811\u001b[0m     \u001b[39mif\u001b[39;00m \u001b[39mnot\u001b[39;00m \u001b[39missubclass\u001b[39m(cursor_class, CursorBase):\n",
      "\u001b[0;31mOperationalError\u001b[0m: MySQL Connection not available."
     ]
    }
   ],
   "source": []
  },
  {
   "cell_type": "code",
   "execution_count": null,
   "id": "35172c94-7bba-462f-a574-eb42e226ded5",
   "metadata": {},
   "outputs": [],
   "source": []
  }
 ],
 "metadata": {
  "kernelspec": {
   "display_name": "Python 3 (ipykernel)",
   "language": "python",
   "name": "python3"
  },
  "language_info": {
   "codemirror_mode": {
    "name": "ipython",
    "version": 3
   },
   "file_extension": ".py",
   "mimetype": "text/x-python",
   "name": "python",
   "nbconvert_exporter": "python",
   "pygments_lexer": "ipython3",
   "version": "3.12.0"
  }
 },
 "nbformat": 4,
 "nbformat_minor": 5
}
