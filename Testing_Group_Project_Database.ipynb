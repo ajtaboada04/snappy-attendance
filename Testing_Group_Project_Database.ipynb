{
 "cells": [
  {
   "cell_type": "markdown",
   "id": "018a21a3-30c1-4730-8a07-9d076a51d21b",
   "metadata": {},
   "source": [
    "# Testing Group Project Database"
   ]
  },
  {
   "cell_type": "code",
   "execution_count": 1,
   "id": "85460dff-ff83-4bf5-8133-e788753fd16a",
   "metadata": {},
   "outputs": [
    {
     "name": "stdout",
     "output_type": "stream",
     "text": [
      "=== Testing connection to the Database\n",
      "SELECT now();\n",
      "[(datetime.datetime(2023, 11, 10, 23, 13, 27),)]\n",
      "=== Showing the Databases you have access to. This should include DUDB_3\n",
      "show databases;\n",
      "[(bytearray(b'DUDB_3'),), (bytearray(b'information_schema'),), (bytearray(b'performance_schema'),)]\n",
      "=== Create a sample table: event\n",
      "CREATE TABLE IF NOT EXISTS event (\n",
      "    id INT  NOT NULL AUTO_INCREMENT, \n",
      "    name VARCHAR(20) , \n",
      "    state VARCHAR(20),\n",
      "    datetime DATETIME NOT NULL,\n",
      "    PRIMARY KEY(id)\n",
      ");\n",
      "show tables;\n",
      "[(bytearray(b'event'),)]\n",
      "=== Inserting a record into event\n",
      "INSERT INTO event(name, state, datetime) VALUES ('test','live',NOW())\n",
      "SELECT * FROM event;\n",
      "[(1, 'test', 'live', datetime.datetime(2023, 11, 10, 23, 13, 27))]\n",
      "=== Dropping table event to leave a clean schema\n",
      "DROP TABLE event;\n",
      "[]\n"
     ]
    }
   ],
   "source": [
    "import mysql.connector\n",
    "\n",
    "host = 'dockerlab.westeurope.cloudapp.azure.com'\n",
    "port = 3307\n",
    "username = 'DUDB_3'\n",
    "password = '8ReukdQCXc6u_kOaWNc3cYBaxU86Li4nWLUbq8Rv-j8'\n",
    "database = 'DUDB_3'\n",
    "\n",
    "cnx = mysql.connector.connect(user=username, password=password,\n",
    "                                host=host, database=database)\n",
    "\n",
    "cursor = cnx.cursor()\n",
    "\n",
    "print(\"=== Testing connection to the Database\")\n",
    "sql_str = 'SELECT NOW();'\n",
    "print(sql_str)\n",
    "cursor.execute(sql_str)\n",
    "rs = cursor.fetchall()\n",
    "print(rs)\n",
    "\n",
    "print(f\"=== Showing the Databases you have access to.\")\n",
    "sql_str = 'SHOW DATABASES;'\n",
    "print(sql_str)\n",
    "cursor.execute(sql_str)\n",
    "rs = cursor.fetchall()\n",
    "print(rs)\n",
    "\n",
    "sql_str = 'SHOW TABLES;'\n",
    "cursor.execute(sql_str)\n",
    "rs = cursor.fetchall()\n",
    "print(rs)\n",
    "\n",
    "cursor.close() # Always close a cursor when no longer required\n",
    "cnx.close() # always close your database connections before the program exits"
   ]
  },
  {
   "cell_type": "code",
   "execution_count": null,
   "id": "35172c94-7bba-462f-a574-eb42e226ded5",
   "metadata": {},
   "outputs": [],
   "source": []
  }
 ],
 "metadata": {
  "kernelspec": {
   "display_name": "Python 3 (ipykernel)",
   "language": "python",
   "name": "python3"
  },
  "language_info": {
   "codemirror_mode": {
    "name": "ipython",
    "version": 3
   },
   "file_extension": ".py",
   "mimetype": "text/x-python",
   "name": "python",
   "nbconvert_exporter": "python",
   "pygments_lexer": "ipython3",
   "version": "3.11.0"
  }
 },
 "nbformat": 4,
 "nbformat_minor": 5
}
